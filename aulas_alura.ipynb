{
 "cells": [
  {
   "cell_type": "code",
   "execution_count": 3,
   "id": "c681ad44",
   "metadata": {},
   "outputs": [],
   "source": [
    "import pandas as pd"
   ]
  },
  {
   "cell_type": "code",
   "execution_count": 4,
   "id": "827a5cb4",
   "metadata": {},
   "outputs": [],
   "source": [
    "df = pd.read_csv(\"https://raw.githubusercontent.com/guilhermeonrails/data-jobs/refs/heads/main/salaries.csv\")\n",
    "     "
   ]
  },
  {
   "cell_type": "code",
   "execution_count": null,
   "id": "29bb61bf",
   "metadata": {},
   "outputs": [],
   "source": [
    "df.head()"
   ]
  },
  {
   "cell_type": "code",
   "execution_count": 6,
   "id": "1a13323b",
   "metadata": {},
   "outputs": [
    {
     "name": "stdout",
     "output_type": "stream",
     "text": [
      "<class 'pandas.core.frame.DataFrame'>\n",
      "RangeIndex: 133349 entries, 0 to 133348\n",
      "Data columns (total 11 columns):\n",
      " #   Column              Non-Null Count   Dtype  \n",
      "---  ------              --------------   -----  \n",
      " 0   work_year           133339 non-null  float64\n",
      " 1   experience_level    133349 non-null  object \n",
      " 2   employment_type     133349 non-null  object \n",
      " 3   job_title           133349 non-null  object \n",
      " 4   salary              133349 non-null  int64  \n",
      " 5   salary_currency     133349 non-null  object \n",
      " 6   salary_in_usd       133349 non-null  int64  \n",
      " 7   employee_residence  133349 non-null  object \n",
      " 8   remote_ratio        133349 non-null  int64  \n",
      " 9   company_location    133349 non-null  object \n",
      " 10  company_size        133349 non-null  object \n",
      "dtypes: float64(1), int64(3), object(7)\n",
      "memory usage: 11.2+ MB\n"
     ]
    }
   ],
   "source": [
    "df.info()"
   ]
  },
  {
   "cell_type": "code",
   "execution_count": 7,
   "id": "52edd995",
   "metadata": {},
   "outputs": [
    {
     "data": {
      "text/html": [
       "<div>\n",
       "<style scoped>\n",
       "    .dataframe tbody tr th:only-of-type {\n",
       "        vertical-align: middle;\n",
       "    }\n",
       "\n",
       "    .dataframe tbody tr th {\n",
       "        vertical-align: top;\n",
       "    }\n",
       "\n",
       "    .dataframe thead th {\n",
       "        text-align: right;\n",
       "    }\n",
       "</style>\n",
       "<table border=\"1\" class=\"dataframe\">\n",
       "  <thead>\n",
       "    <tr style=\"text-align: right;\">\n",
       "      <th></th>\n",
       "      <th>work_year</th>\n",
       "      <th>salary</th>\n",
       "      <th>salary_in_usd</th>\n",
       "      <th>remote_ratio</th>\n",
       "    </tr>\n",
       "  </thead>\n",
       "  <tbody>\n",
       "    <tr>\n",
       "      <th>count</th>\n",
       "      <td>133339.000000</td>\n",
       "      <td>1.333490e+05</td>\n",
       "      <td>133349.000000</td>\n",
       "      <td>133349.000000</td>\n",
       "    </tr>\n",
       "    <tr>\n",
       "      <th>mean</th>\n",
       "      <td>2024.358770</td>\n",
       "      <td>1.632833e+05</td>\n",
       "      <td>157617.272098</td>\n",
       "      <td>20.905669</td>\n",
       "    </tr>\n",
       "    <tr>\n",
       "      <th>std</th>\n",
       "      <td>0.680627</td>\n",
       "      <td>2.173860e+05</td>\n",
       "      <td>74288.363097</td>\n",
       "      <td>40.590044</td>\n",
       "    </tr>\n",
       "    <tr>\n",
       "      <th>min</th>\n",
       "      <td>2020.000000</td>\n",
       "      <td>1.400000e+04</td>\n",
       "      <td>15000.000000</td>\n",
       "      <td>0.000000</td>\n",
       "    </tr>\n",
       "    <tr>\n",
       "      <th>25%</th>\n",
       "      <td>2024.000000</td>\n",
       "      <td>1.060200e+05</td>\n",
       "      <td>106000.000000</td>\n",
       "      <td>0.000000</td>\n",
       "    </tr>\n",
       "    <tr>\n",
       "      <th>50%</th>\n",
       "      <td>2024.000000</td>\n",
       "      <td>1.470000e+05</td>\n",
       "      <td>146206.000000</td>\n",
       "      <td>0.000000</td>\n",
       "    </tr>\n",
       "    <tr>\n",
       "      <th>75%</th>\n",
       "      <td>2025.000000</td>\n",
       "      <td>1.990000e+05</td>\n",
       "      <td>198000.000000</td>\n",
       "      <td>0.000000</td>\n",
       "    </tr>\n",
       "    <tr>\n",
       "      <th>max</th>\n",
       "      <td>2025.000000</td>\n",
       "      <td>3.040000e+07</td>\n",
       "      <td>800000.000000</td>\n",
       "      <td>100.000000</td>\n",
       "    </tr>\n",
       "  </tbody>\n",
       "</table>\n",
       "</div>"
      ],
      "text/plain": [
       "           work_year        salary  salary_in_usd   remote_ratio\n",
       "count  133339.000000  1.333490e+05  133349.000000  133349.000000\n",
       "mean     2024.358770  1.632833e+05  157617.272098      20.905669\n",
       "std         0.680627  2.173860e+05   74288.363097      40.590044\n",
       "min      2020.000000  1.400000e+04   15000.000000       0.000000\n",
       "25%      2024.000000  1.060200e+05  106000.000000       0.000000\n",
       "50%      2024.000000  1.470000e+05  146206.000000       0.000000\n",
       "75%      2025.000000  1.990000e+05  198000.000000       0.000000\n",
       "max      2025.000000  3.040000e+07  800000.000000     100.000000"
      ]
     },
     "execution_count": 7,
     "metadata": {},
     "output_type": "execute_result"
    }
   ],
   "source": [
    "\n",
    "df.describe()\n",
    "     "
   ]
  }
 ],
 "metadata": {
  "kernelspec": {
   "display_name": "base",
   "language": "python",
   "name": "python3"
  },
  "language_info": {
   "codemirror_mode": {
    "name": "ipython",
    "version": 3
   },
   "file_extension": ".py",
   "mimetype": "text/x-python",
   "name": "python",
   "nbconvert_exporter": "python",
   "pygments_lexer": "ipython3",
   "version": "3.12.2"
  }
 },
 "nbformat": 4,
 "nbformat_minor": 5
}
